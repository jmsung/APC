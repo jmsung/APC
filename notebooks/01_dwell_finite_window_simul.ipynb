{
 "cells": [
  {
   "cell_type": "markdown",
   "metadata": {},
   "source": [
    "# Observation in finite experimental time-window of processes of random onset and duration: Simulation\n",
    "### by Jongmin Sung and Henrik Flyvbjerg (Last updated on 3/28/2019)"
   ]
  },
  {
   "cell_type": "markdown",
   "metadata": {},
   "source": [
    "Suppose that we got time trace of signal and we want to measure the mean dwell time (duration of events) to extract the kinetic information. The dynamic signal could be due to protein binding/unbinding or protein conformational changes. At the beginning or end of the time window, we might find incomplete (pre-existing or unfinished) events. If the time window is getting shorter, we have higher chances of finding those incomplete events. <br/>\n",
    "\n",
    "Considering these circumstances matter when you have a limited ovservation window due to issues such as, <br/>\n",
    "* if the kinetic rates governing the transition are very slow and you cannot obtain a long trajectory\n",
    "* time window is limited by technical issues including photo-bleaching, degredation of protein or surface chemistry at room temperature\n",
    "* you already got large amount data but it is not long enough, and you want to extract information out of it. \n",
    "\n",
    "We observe individual binding and unbinding events. <br/>\n",
    "$\\Delta$t = duration of bound state time <br/>\n",
    "$t_b$ = time at binding occured <br/>\n",
    "$t_u$ = time at unbinding occured <br/>\n",
    "$\\tau$ = an experimental time-window of fixed duration <br/>\n",
    "\n",
    "Consequently, we cannot observe $t_b$ and $t_u$ for every bound state we do observe. Thus, every observed bound state belongs to one of four classes: <br/>\n",
    "I. $t_b$ < 0 < $t_u$ < $\\tau$ (Binding occured before we start observing. Unbinding occured before we finish observing) <br/>\n",
    "II. 0 < $t_b$ < $t_u$ < $\\tau$ (Binding occured after we start observing. Unbinding occured before we finish observing) <br/>\n",
    "III. 0 < $t_b$ < $\\tau$ < $t_u$ (Binding occured after we start observing. Unbinding occured after we finish observing) <br/>\n",
    "IV. $t_b$ < 0 < $\\tau$ < $t_u$ (Binding occured before we start observing. Unbinding occured before we finish observing) <br/>\n",
    "\n",
    "Below, I run a simulation. "
   ]
  },
  {
   "cell_type": "markdown",
   "metadata": {},
   "source": [
    "## Import libraries"
   ]
  },
  {
   "cell_type": "code",
   "execution_count": 12,
   "metadata": {},
   "outputs": [],
   "source": [
    "# Import libraries\n",
    "from __future__ import division, print_function, absolute_import\n",
    "import numpy as np\n",
    "import matplotlib.pyplot as plt\n",
    "%matplotlib inline\n",
    "import sys\n",
    "\n",
    "sys.path.append(\"../APC/APC\")\n",
    "import config\n",
    "from my_funcs import simul_trace"
   ]
  },
  {
   "cell_type": "markdown",
   "metadata": {},
   "source": [
    "## Below, I simulate traces that have only binary state signal (unbound or bound state). Real experimental data contain noise, and suppose that we processeded the data using a state determining algorithm. "
   ]
  },
  {
   "cell_type": "code",
   "execution_count": 14,
   "metadata": {},
   "outputs": [],
   "source": [
    "# User parameters\n",
    "n_sample = 1000  # Number of observation\n",
    "t_b = 10  # Mean bound time in frame (Poisson dwell time)\n",
    "t_u = 100 # Mean unbound time in frame (Poisson dwell time)\n",
    "t_window = 100  # Length of time window for observation t = [0, 1, ..., t_window-1]\n",
    "tp_ub = 1/t_u\n",
    "tp_bu = 1/t_b\n",
    "\n",
    "traces = ['None'] * n_sample\n",
    "for trace in traces:\n",
    "    trace = simulate_trace(t_window, t_b, t_u)\n",
    "\n",
    "\n",
    "\n",
    "\n",
    "\n"
   ]
  },
  {
   "cell_type": "code",
   "execution_count": null,
   "metadata": {},
   "outputs": [],
   "source": []
  },
  {
   "cell_type": "code",
   "execution_count": null,
   "metadata": {},
   "outputs": [],
   "source": []
  },
  {
   "cell_type": "code",
   "execution_count": null,
   "metadata": {},
   "outputs": [],
   "source": []
  },
  {
   "cell_type": "code",
   "execution_count": null,
   "metadata": {},
   "outputs": [],
   "source": []
  },
  {
   "cell_type": "code",
   "execution_count": null,
   "metadata": {},
   "outputs": [],
   "source": []
  },
  {
   "cell_type": "code",
   "execution_count": null,
   "metadata": {},
   "outputs": [],
   "source": []
  },
  {
   "cell_type": "code",
   "execution_count": null,
   "metadata": {},
   "outputs": [],
   "source": []
  },
  {
   "cell_type": "code",
   "execution_count": null,
   "metadata": {},
   "outputs": [],
   "source": []
  },
  {
   "cell_type": "code",
   "execution_count": null,
   "metadata": {},
   "outputs": [],
   "source": []
  },
  {
   "cell_type": "code",
   "execution_count": null,
   "metadata": {},
   "outputs": [],
   "source": []
  },
  {
   "cell_type": "code",
   "execution_count": null,
   "metadata": {},
   "outputs": [],
   "source": []
  },
  {
   "cell_type": "code",
   "execution_count": null,
   "metadata": {},
   "outputs": [],
   "source": []
  },
  {
   "cell_type": "code",
   "execution_count": null,
   "metadata": {},
   "outputs": [],
   "source": []
  },
  {
   "cell_type": "code",
   "execution_count": null,
   "metadata": {},
   "outputs": [],
   "source": []
  },
  {
   "cell_type": "code",
   "execution_count": null,
   "metadata": {},
   "outputs": [],
   "source": []
  },
  {
   "cell_type": "code",
   "execution_count": null,
   "metadata": {},
   "outputs": [],
   "source": []
  },
  {
   "cell_type": "code",
   "execution_count": null,
   "metadata": {},
   "outputs": [],
   "source": []
  },
  {
   "cell_type": "code",
   "execution_count": null,
   "metadata": {},
   "outputs": [],
   "source": []
  },
  {
   "cell_type": "code",
   "execution_count": null,
   "metadata": {},
   "outputs": [],
   "source": []
  },
  {
   "cell_type": "code",
   "execution_count": null,
   "metadata": {},
   "outputs": [],
   "source": []
  },
  {
   "cell_type": "code",
   "execution_count": null,
   "metadata": {},
   "outputs": [],
   "source": []
  },
  {
   "cell_type": "code",
   "execution_count": null,
   "metadata": {},
   "outputs": [],
   "source": []
  },
  {
   "cell_type": "code",
   "execution_count": null,
   "metadata": {},
   "outputs": [],
   "source": []
  }
 ],
 "metadata": {
  "kernelspec": {
   "display_name": "Python 3",
   "language": "python",
   "name": "python3"
  },
  "language_info": {
   "codemirror_mode": {
    "name": "ipython",
    "version": 3
   },
   "file_extension": ".py",
   "mimetype": "text/x-python",
   "name": "python",
   "nbconvert_exporter": "python",
   "pygments_lexer": "ipython3",
   "version": "3.6.8"
  }
 },
 "nbformat": 4,
 "nbformat_minor": 2
}
